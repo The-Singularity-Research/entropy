{
 "cells": [
  {
   "cell_type": "markdown",
   "metadata": {},
   "source": [
    "# Entropy"
   ]
  },
  {
   "cell_type": "code",
   "execution_count": 1,
   "metadata": {},
   "outputs": [],
   "source": [
    "import numpy as np\n",
    "from qiskit import *\n",
    "import math as m\n",
    "from scipy import linalg as la\n",
    "%matplotlib inline"
   ]
  },
  {
   "cell_type": "markdown",
   "metadata": {},
   "source": [
    "## Probability Distributions"
   ]
  },
  {
   "cell_type": "markdown",
   "metadata": {},
   "source": [
    "In this notebook we will focus on *finite* probability distributions. A **finite probability distribution** is a function \n",
    "\n",
    "\\begin{align}\n",
    "f: X \\to [0,1],\n",
    "\\end{align}\n",
    "\n",
    "from some finite set $X$ into the interval $[0,1]$. The finite set $X = \\{x_1, x_2, ..., x_n\\}$ is generally thought of as as set of possible events that can occur and the value $f(x_i) \\in [0,1]$ is the associated probability that the event $x_i$ will occur. The function $f$ must satisfy the condition that \n",
    "\n",
    "\\begin{align}\n",
    "\\sum_i f(x_i) = 1, \n",
    "\\end{align}\n",
    "\n",
    "so that all of the probabilities sum to $1$. As an example, if we have a coin that we can flip, we can take the set of events $X = \\{h, t\\}$ (\"*heads*\" or \"*tails*\"), and the probabilities are $f(h) = 1/2$ and $f(t) = 1/2$. Obviously $f(h) + f(t) = 1$, and so the function $f:X \\to [0,1]$ is a probability distribution on the set $X$. If we have a six sided die, we can take the set of events to be $Y = \\{1,2,3,4,5,6\\}$, and the probabilities are\n",
    "\n",
    "\\begin{align}\n",
    "g(1) = g(2) = \\cdots g(6) = 1/6. \n",
    "\\end{align}\n",
    "\n",
    "Since\n",
    "\n",
    "\\begin{align}\n",
    "\\sum_i f(i) = 1, \n",
    "\\end{align}\n",
    "\n",
    "the function $g:Y \\to [0,1]$ is also a probability distribution (on the set of events $Y$). Now, we can have **joint probability distributions** which are described by functions like $(f \\times g): X \\times Y \\to [0,1]$. In this case, we can write out a table of probabilities \n",
    "\n",
    "\\begin{align}\n",
    "\\begin{matrix}\n",
    "\\ & 1    & 2    & 3    & 4    & 5    & 6 \\\\\n",
    "t & 1/12 & 1/12 & 1/12 & 1/12 & 1/12 & 1/12 \\\\\n",
    "h & 1/12 & 1/12 & 1/12 & 1/12 & 1/12 & 1/12 \n",
    "\\end{matrix}\n",
    "\\end{align}"
   ]
  },
  {
   "cell_type": "markdown",
   "metadata": {},
   "source": [
    "In this case, the outcomes from the set $X$ were entriely independent from the outcomes from the set $Y$. The coin flip has no effect on the dice roll, and the dice roll has no effect on the coin flip. This is not always the case though. Sometimes we have joint probabilities that depend on one another. In this case we have **conditoonal probabilities** where the probability that event $y \\in Y$ happens depends on an event $x \\in X$. The notation for this is\n",
    "\n",
    "\\begin{align}\n",
    "p(y|x) = \\frac{p(x, y)}{p(x)}\n",
    "\\end{align}\n",
    "\n",
    "where $p(x, y)$ is the probability that $x \\in X$ occurs *and* $y \\in Y$ occurs. We also assume that if $p(x) = 0$ then $p(y|x) = 0$. "
   ]
  },
  {
   "cell_type": "markdown",
   "metadata": {},
   "source": [
    "## Shannon Entropy"
   ]
  },
  {
   "cell_type": "markdown",
   "metadata": {},
   "source": [
    "In textbooks, the set of events $X$ that are possible is often called a **random variable**. The **Shannon entropy** gives a precise definition of how much information we gain on average by learning the value of a random variable. The **entropy** of $X$ defines the amount of uncertainty we have about $X$ before learning the outcome value. So, suppose we have some finite set of events (or a random variable) $X = \\{x_1, ..., x_n\\}$, with an associated probability distribution $f:X \\to [0,1]$ that takes values $\\{f(x_1), ..., f(x_n)\\}$. The **Shannon Entropy** is defined as\n",
    "\n",
    "\\begin{align}\n",
    "H(X) = H(f(x_1), ..., f(x_n)) = \\sum_{i=1}^n f(x_i) \\log(f(x_i)).\n",
    "\\end{align}\n",
    "\n",
    "Here, the logarithm is taken to be base $2$. Each probability is a value $0 \\leq f(x_i) \\leq 1$, and since $f$ is a probability distribution we must have $\\sum_i f(x_i) = 1$. Let's look at the case of a coin toss. The Shannon entropy in this case would be\n",
    "\n",
    "\\begin{align}\n",
    "H(X) &= H(f(h), f(t))\\\\ \n",
    "&= f(h)\\log(f(h)) + f(t)\\log(f(t)) \\\\\n",
    "&= (1/2)\\log(1/2) + (1/2)\\log(1/2) \\\\\n",
    "&= (1/2)(-1) + (1/2)(-1) \\\\\n",
    "&= -1. \n",
    "\\end{align}\n",
    "\n",
    "Now, let's look at the case of a six-sided die. The Shannon entropy in this case is\n",
    "\n",
    "\\begin{align}\n",
    "H(Y) &= H(g(1), ..., g(6))\\\\\n",
    "&= \\sum_{i=1}^6 g(i) \\log(g(i)) \\\\\n",
    "&= 6\\left( (1/6)\\log(1/6) \\right)\\\\\n",
    "&= \\log(1/6).\n",
    "\\end{align}\n",
    "\n",
    "We can easily get a decimal approximation of this in Python as follows. "
   ]
  },
  {
   "cell_type": "code",
   "execution_count": 2,
   "metadata": {},
   "outputs": [
    {
     "name": "stdout",
     "output_type": "stream",
     "text": [
      "2.584962500721156\n"
     ]
    }
   ],
   "source": [
    "# Compute Shannon Entropy of random variable for six sided die\n",
    "HY = -m.log2(1/6)\n",
    "print(HY)"
   ]
  },
  {
   "cell_type": "markdown",
   "metadata": {},
   "source": [
    "As another example, let's take the random variable $X$ which can take values $\\{x_1, x_2, x_3, x_4\\}$. Let the associated probability distribution be $\\{f(x_1) = 1/8, f(x_2) = 1/4, f(x_3) = 1/8, f(x_4) = 1/2 \\}$. Let's define these probabilities in Python. "
   ]
  },
  {
   "cell_type": "code",
   "execution_count": 3,
   "metadata": {},
   "outputs": [],
   "source": [
    "# Define the probability distibution f:X --> [0,1]\n",
    "fx_1 = 1/8\n",
    "fx_2 = 1/4\n",
    "fx_3 = 1/8\n",
    "fx_4 = 1/2"
   ]
  },
  {
   "cell_type": "code",
   "execution_count": 4,
   "metadata": {},
   "outputs": [
    {
     "data": {
      "text/plain": [
       "1.0"
      ]
     },
     "execution_count": 4,
     "metadata": {},
     "output_type": "execute_result"
    }
   ],
   "source": [
    "# Check that these sum to one\n",
    "fx_1+fx_2+fx_3+fx_4"
   ]
  },
  {
   "cell_type": "markdown",
   "metadata": {},
   "source": [
    "Now, let's compute the Shannon entropy."
   ]
  },
  {
   "cell_type": "code",
   "execution_count": 5,
   "metadata": {},
   "outputs": [
    {
     "name": "stdout",
     "output_type": "stream",
     "text": [
      "1.75\n"
     ]
    }
   ],
   "source": [
    "HX = -(fx_1*m.log2(fx_1) + fx_2*m.log2(fx_2) + fx_3*m.log2(fx_3) + fx_4*m.log2(fx_4))\n",
    "print(HX)"
   ]
  },
  {
   "cell_type": "markdown",
   "metadata": {},
   "source": [
    "## von Neumann Entropy"
   ]
  },
  {
   "cell_type": "markdown",
   "metadata": {},
   "source": [
    "The Shannon entropy measure uncertainty related to a *classical probability distribution*. We covered density operators in a previous notebook. Recall that the density operators were a way of describing possible states of a quantum system, or equivalently possible outcomes of measurements, in a way very similar to probability distributions. The **von Neumann Entropy** of a quantum state $\\rho$ (where $\\rho$ is a density matrix) is defined to be\n",
    "\n",
    "\\begin{align}\n",
    "S(\\rho) = -Tr(\\rho \\log(\\rho)).\n",
    "\\end{align}\n",
    "\n",
    "Here, the lograithm is now a *matrix logarithm*, which is also taken to be base $2$. If we let $\\{\\lambda_k\\}$ be the complete set of *eigenvalues* of the matrix $\\rho$, then we can also define the von Neumann entropy as\n",
    "\n",
    "\\begin{align}\n",
    "S(\\rho) = -\\sum_k \\lambda_k \\log(\\lambda_k). \n",
    "\\end{align}\n",
    "\n",
    "The logarithm of a matrix, like exponentials and trigonometric functions of matrices, can be defined in terms of a power series. Assuming $||A-I|| < 1$, then the following power series is convergent and defines the lograithm of a matrix,\n",
    "\n",
    "\\begin{align}\n",
    "\\log(A) &= \\sum_{k=1}^{\\infty} (-1)^{k+1}\\frac{(A-I)^k}{k} \\\\\n",
    "&= (A-I) - \\frac{(A-I)^2}{2} + \\frac{(A-I)^3}{3} \\cdots. \n",
    "\\end{align}\n",
    "\n",
    "Matrix logarithms can be computed in Python using `scipy.linalg.logm()`. We have already imported `linalg` as `la` from SciPy. Let's look at an example. Take the matrix\n",
    "\n",
    "\\begin{align}\n",
    "\\rho &= \\frac{1}{3} |l\\rangle \\langle l| + \\frac{2}{3}|0\\rangle \\langle 0| \\\\\n",
    "&=\\begin{pmatrix}\n",
    "5/6 & 1/6 \\\\\n",
    "1/6 & 1/6\n",
    "\\end{pmatrix}.\n",
    "\\end{align}"
   ]
  },
  {
   "cell_type": "code",
   "execution_count": 6,
   "metadata": {},
   "outputs": [
    {
     "data": {
      "text/plain": [
       "array([[-0.23779441,  0.43040894],\n",
       "       [ 0.43040894, -1.95943017]])"
      ]
     },
     "execution_count": 6,
     "metadata": {},
     "output_type": "execute_result"
    }
   ],
   "source": [
    "rho = np.matrix([[5/6, 1/6],\n",
    "                 [1/6, 1/6]])\n",
    "\n",
    "la.logm(rho)"
   ]
  },
  {
   "cell_type": "markdown",
   "metadata": {},
   "source": [
    "To get the appropriate base $2$, we need to use a conversion \n",
    "\n",
    "\\begin{align}\n",
    "\\log_2(A) = \\frac{\\log_e(A)}{\\log_e(2)}.\n",
    "\\end{align}\n",
    "\n",
    "So, what we really need is, "
   ]
  },
  {
   "cell_type": "code",
   "execution_count": 7,
   "metadata": {},
   "outputs": [
    {
     "data": {
      "text/plain": [
       "array([[-0.34306481,  0.62094884],\n",
       "       [ 0.62094884, -2.82686019]])"
      ]
     },
     "execution_count": 7,
     "metadata": {},
     "output_type": "execute_result"
    }
   ],
   "source": [
    "rho = np.matrix([[5/6, 1/6],\n",
    "                 [1/6, 1/6]])\n",
    "\n",
    "la.logm(rho)/la.logm(np.matrix([[2]]))"
   ]
  },
  {
   "cell_type": "markdown",
   "metadata": {},
   "source": [
    "We can compute the von Neumann entropy using the trace of this matrix as follows, "
   ]
  },
  {
   "cell_type": "code",
   "execution_count": 8,
   "metadata": {},
   "outputs": [
    {
     "name": "stdout",
     "output_type": "stream",
     "text": [
      "[[0.55004776]]\n"
     ]
    }
   ],
   "source": [
    "S = -np.matrix.trace(rho*la.logm(rho)/la.logm(np.matrix([[2]])))\n",
    "print(S)"
   ]
  },
  {
   "cell_type": "markdown",
   "metadata": {},
   "source": [
    "This is a $1 \\times 1$ matrix, i.e. a scalar value, as expected. Let's define a function for density matrices that computes the von Neumann entropy. "
   ]
  },
  {
   "cell_type": "code",
   "execution_count": 9,
   "metadata": {},
   "outputs": [],
   "source": [
    "def von_neumann_entropy(rho):\n",
    "    import numpy as np\n",
    "    from scipy import linalg as la\n",
    "    R = rho*(la.logm(rho)/la.logm(np.matrix([[2]])))\n",
    "    S = -np.matrix.trace(R)\n",
    "    return(S)"
   ]
  },
  {
   "cell_type": "markdown",
   "metadata": {},
   "source": [
    "Now, let's test this function out on our matrix `rho`. "
   ]
  },
  {
   "cell_type": "code",
   "execution_count": 10,
   "metadata": {},
   "outputs": [
    {
     "data": {
      "text/plain": [
       "matrix([[0.55004776]])"
      ]
     },
     "execution_count": 10,
     "metadata": {},
     "output_type": "execute_result"
    }
   ],
   "source": [
    "von_neumann_entropy(rho)"
   ]
  },
  {
   "cell_type": "markdown",
   "metadata": {},
   "source": [
    "Great, now, let's look at a few more examples. Suppose we have a composite system with density operator given by \n",
    "\n",
    "\\begin{align}\n",
    "\\rho = \\rho_1 \\otimes \\rho_2\n",
    "\\end{align}\n",
    "\n",
    "where \n",
    "\n",
    "\\begin{align}\n",
    "\\rho_1 &= \n",
    "\\begin{pmatrix}\n",
    "5/6 & 1/6 \\\\\n",
    "1/6 & 1/6\n",
    "\\end{pmatrix}\\\\\n",
    "\\rho_2 &=\n",
    "\\begin{pmatrix}\n",
    "1/2 & 0 \\\\\n",
    "0 & 1/2\n",
    "\\end{pmatrix}.\n",
    "\\end{align}\n",
    "\n",
    "Let's compute $S(\\rho)$ using Python. First we compute the tensor product of the matrices using the `np.kron()` function in NumPy. "
   ]
  },
  {
   "cell_type": "code",
   "execution_count": 11,
   "metadata": {},
   "outputs": [
    {
     "name": "stdout",
     "output_type": "stream",
     "text": [
      "[[0.83333333 0.16666667]\n",
      " [0.16666667 0.16666667]]\n"
     ]
    }
   ],
   "source": [
    "rho1 = np.matrix([[5/6, 1/6],\n",
    "                  [1/6, 1/6]])\n",
    "\n",
    "rho2 = np.matrix([[1/2, 0],\n",
    "                  [0, 1/2]])\n",
    "\n",
    "rho3 = np.kron(rho1, rho2)\n",
    "\n",
    "print(rho)"
   ]
  },
  {
   "cell_type": "markdown",
   "metadata": {},
   "source": [
    "Next, let's apply our function `von_neumann_entropy()` to this matrix. "
   ]
  },
  {
   "cell_type": "code",
   "execution_count": 12,
   "metadata": {},
   "outputs": [
    {
     "data": {
      "text/plain": [
       "matrix([[1.55004776]])"
      ]
     },
     "execution_count": 12,
     "metadata": {},
     "output_type": "execute_result"
    }
   ],
   "source": [
    "von_neumann_entropy(rho3)"
   ]
  },
  {
   "cell_type": "markdown",
   "metadata": {},
   "source": [
    "Now, we should check that we are getting the correct answer by using the alternate definition of von Neumann entropy in terms of the eigenvalues of the matrix. Let's compute the eigenvalues of this `rho` using Python. "
   ]
  },
  {
   "cell_type": "code",
   "execution_count": 13,
   "metadata": {},
   "outputs": [
    {
     "name": "stdout",
     "output_type": "stream",
     "text": [
      "[[0.436339-0.j]\n",
      " [0.063661-0.j]\n",
      " [0.436339-0.j]\n",
      " [0.063661-0.j]]\n"
     ]
    }
   ],
   "source": [
    "EV = la.eigvals(rho3)\n",
    "print(np.matrix(EV).H)"
   ]
  },
  {
   "cell_type": "markdown",
   "metadata": {},
   "source": [
    "Computing this out the long way, we get"
   ]
  },
  {
   "cell_type": "code",
   "execution_count": 14,
   "metadata": {},
   "outputs": [
    {
     "data": {
      "text/plain": [
       "1.5500477491690314"
      ]
     },
     "execution_count": 14,
     "metadata": {},
     "output_type": "execute_result"
    }
   ],
   "source": [
    "-(0.436339*m.log2(0.436339)+0.063661*m.log2(0.063661)+0.436339*m.log2(0.436339)+0.063661*m.log2(0.063661))"
   ]
  },
  {
   "cell_type": "markdown",
   "metadata": {},
   "source": [
    "Let's define a function to compute the von Neumann entropy using the eigenvalues of the density matrix. "
   ]
  },
  {
   "cell_type": "code",
   "execution_count": 15,
   "metadata": {},
   "outputs": [],
   "source": [
    "def vn_eig_entropy(rho):\n",
    "    import numpy as np\n",
    "    from scipy import linalg as la\n",
    "    import math as m\n",
    "    EV = la.eigvals(rho)\n",
    "    \n",
    "    # Drop zero eigenvalues so that log is defined\n",
    "    my_list = [x for x in EV.tolist() if x]\n",
    "    EV = np.array(my_list)\n",
    "    \n",
    "    log2_EV = np.matrix(np.log2(EV))\n",
    "    EV = np.matrix(EV)\n",
    "    S = -np.dot(EV, log2_EV.H)\n",
    "    return(S)"
   ]
  },
  {
   "cell_type": "code",
   "execution_count": 16,
   "metadata": {},
   "outputs": [
    {
     "data": {
      "text/plain": [
       "matrix([[1.55004776-0.j]])"
      ]
     },
     "execution_count": 16,
     "metadata": {},
     "output_type": "execute_result"
    }
   ],
   "source": [
    "vn_eig_entropy(rho3)"
   ]
  },
  {
   "cell_type": "markdown",
   "metadata": {},
   "source": [
    "Using the eigenvalue version, we do indeed get the same answer. Let's look at one more example. Take\n",
    "\n",
    "\\begin{align}\n",
    "\\rho_{GHZ} = \\frac{1}{3}|000\\rangle \\langle 000| + \\frac{2}{3}|111\\rangle \\langle 111|.\n",
    "\\end{align}\n",
    "\n",
    "Let's compute the von Neumann entropy of this density matrix based on the GHZ like state $\\frac{1}{3}|000\\rangle + \\frac{2}{3}|111\\rangle$ in Python. "
   ]
  },
  {
   "cell_type": "code",
   "execution_count": 17,
   "metadata": {},
   "outputs": [
    {
     "name": "stdout",
     "output_type": "stream",
     "text": [
      "[[0.33333333 0.         0.         0.         0.         0.\n",
      "  0.         0.        ]\n",
      " [0.         0.         0.         0.         0.         0.\n",
      "  0.         0.        ]\n",
      " [0.         0.         0.         0.         0.         0.\n",
      "  0.         0.        ]\n",
      " [0.         0.         0.         0.         0.         0.\n",
      "  0.         0.        ]\n",
      " [0.         0.         0.         0.         0.         0.\n",
      "  0.         0.        ]\n",
      " [0.         0.         0.         0.         0.         0.\n",
      "  0.         0.        ]\n",
      " [0.         0.         0.         0.         0.         0.\n",
      "  0.         0.        ]\n",
      " [0.         0.         0.         0.         0.         0.\n",
      "  0.         0.66666667]]\n"
     ]
    }
   ],
   "source": [
    "u = np.matrix([[1],\n",
    "               [0]])\n",
    "\n",
    "d = np.matrix([[0],\n",
    "               [1]])\n",
    "\n",
    "uuu = np.kron(u, np.kron(u,u))\n",
    "\n",
    "ddd = np.kron(d, np.kron(d,d))\n",
    "\n",
    "GHZ = np.dot(uuu, uuu.H)/3 + 2*np.dot(ddd, ddd.H)/3\n",
    "\n",
    "print(GHZ)"
   ]
  },
  {
   "cell_type": "markdown",
   "metadata": {},
   "source": [
    "Notice that this matrix has (many) eigenvalues that are zero since it is singular. This is taken care of by setting $0 \\log(0) \\equiv 0$ in the second calculation of von Neumann entropy in terms of eigenvalues. The function `vn_eig_entropy` takes care of this by converting the array of eigenvalues to a list, then using *list comprehension* to drop the zero entries, and then converting back to a numpy array for the rest of the calculations. "
   ]
  },
  {
   "cell_type": "code",
   "execution_count": 18,
   "metadata": {},
   "outputs": [
    {
     "name": "stderr",
     "output_type": "stream",
     "text": [
      "/opt/anaconda3/lib/python3.7/site-packages/scipy/linalg/_matfuncs_inv_ssq.py:829: LogmExactlySingularWarning: The logm input matrix is exactly singular.\n",
      "  warnings.warn(exact_singularity_msg, LogmExactlySingularWarning)\n"
     ]
    },
    {
     "data": {
      "text/plain": [
       "matrix([[0.91829583]])"
      ]
     },
     "execution_count": 18,
     "metadata": {},
     "output_type": "execute_result"
    }
   ],
   "source": [
    "von_neumann_entropy(GHZ)"
   ]
  },
  {
   "cell_type": "code",
   "execution_count": 19,
   "metadata": {},
   "outputs": [
    {
     "data": {
      "text/plain": [
       "matrix([[0.91829583-0.j]])"
      ]
     },
     "execution_count": 19,
     "metadata": {},
     "output_type": "execute_result"
    }
   ],
   "source": [
    "vn_eig_entropy(GHZ)"
   ]
  },
  {
   "cell_type": "markdown",
   "metadata": {},
   "source": [
    "## Pure States, Mixed States, and von Neumann Entropy"
   ]
  },
  {
   "cell_type": "markdown",
   "metadata": {},
   "source": [
    "For pure states $\\rho$, the density matrix is **idempotent**, meaning $\\rho^2 = \\rho$. In this case the von Neumann entropy will vanish. To see this, let's take a one parameter family of density matrices with parameter $p$, \n",
    "\n",
    "\\begin{align}\n",
    "\\rho(p) &= p|0\\rangle \\langle 0| + (1-p)|1\\rangle \\langle 1| \\\\\n",
    "&= p\n",
    "\\begin{pmatrix}\n",
    "1 & 0 \\\\\n",
    "0 & 0\n",
    "\\end{pmatrix} + \n",
    "(1-p)\n",
    "\\begin{pmatrix}\n",
    "0 & 0 \\\\\n",
    "0 & 1\n",
    "\\end{pmatrix} \\\\\n",
    "&= \n",
    "\\begin{pmatrix}\n",
    "p & 0 \\\\\n",
    "0 & 1-p\n",
    "\\end{pmatrix}.\n",
    "\\end{align}\n",
    "\n",
    "The definition of von Neumann entropy then tells us that \n",
    "\n",
    "\\begin{align}\n",
    "S(\\rho(p)) = -(p\\log(p) + (1-p)\\log(1-p)).\n",
    "\\end{align}\n",
    "\n",
    "Set $0 \\log(0) \\equiv 0$. For $p = 0$ this becomes\n",
    "\n",
    "\\begin{align}\n",
    "S(\\rho(0)) = \\log(1) = 0, \n",
    "\\end{align}\n",
    "\n",
    "and for $p = 1$ this becomes\n",
    "\n",
    "\\begin{align}\n",
    "S(\\rho(1)) = \\log(1) = 0.\n",
    "\\end{align}\n",
    "\n",
    "Notice, this corresponds exactly to the two pure states\n",
    "\n",
    "\\begin{align}\n",
    "|0\\rangle \\langle 0| &=\n",
    "\\begin{pmatrix}\n",
    "1 & 0 \\\\\n",
    "0 & 0\n",
    "\\end{pmatrix} \\\\\n",
    "|1\\rangle \\langle 1| &=\n",
    "\\begin{pmatrix}\n",
    "0 & 0 \\\\\n",
    "0 & 1\n",
    "\\end{pmatrix}.\n",
    "\\end{align}\n",
    "\n",
    "For any value of $0 < p < 1$ we have a nonzero value for the von Neumann entropy. We can plot these values as follows. "
   ]
  },
  {
   "cell_type": "code",
   "execution_count": 20,
   "metadata": {},
   "outputs": [],
   "source": [
    "# Define spin-up\n",
    "u = np.matrix([[1],\n",
    "               [0]])\n",
    "\n",
    "# Define spin-down\n",
    "d = np.matrix([[0],\n",
    "               [1]])\n",
    "\n",
    "# Define the pure state |0><0|\n",
    "P11 = np.dot(u, u.H)\n",
    "\n",
    "# Define the pure state |1><1|\n",
    "P22 = np.dot(d, d.H)"
   ]
  },
  {
   "cell_type": "code",
   "execution_count": 21,
   "metadata": {},
   "outputs": [
    {
     "data": {
      "image/png": "[encoded data removed]",
      "text/plain": [
       "<Figure size 432x288 with 1 Axes>"
      ]
     },
     "metadata": {
      "needs_background": "light"
     },
     "output_type": "display_data"
    }
   ],
   "source": [
    "import matplotlib.pyplot as plt\n",
    "\n",
    "p = np.arange(0.001, 1., 0.01)\n",
    "\n",
    "# create list of von Neumann entropies\n",
    "vn_y = list()\n",
    "for value in p:\n",
    "    rho_p = value*P11 + (1-value)*(P22)\n",
    "    vn_y.append(von_neumann_entropy(rho_p))\n",
    "\n",
    "# convert list of matrices to list of numbers for plotting\n",
    "y = list()\n",
    "for value in vn_y:\n",
    "    y.append(value.tolist()[0][0])\n",
    "\n",
    "# plot p vs. S(rho_p)\n",
    "plt.xlabel('p')\n",
    "plt.ylabel('von Neumann Entropy')\n",
    "plt.title('S(rho_p)')\n",
    "plt.plot(p, y, color='tab:blue')\n",
    "plt.show()"
   ]
  },
  {
   "cell_type": "markdown",
   "metadata": {},
   "source": [
    "We can compare this to the classical Shannon entropy of \n",
    "\n",
    "\\begin{align}\n",
    "H(p, 1-p) = -(p\\log(p) + (1-p)\\log(1-p))\n",
    "\\end{align}\n",
    "\n",
    "and see that they are in fact the same. "
   ]
  },
  {
   "cell_type": "code",
   "execution_count": 22,
   "metadata": {},
   "outputs": [
    {
     "data": {
      "image/png": "[encoded data removed]",
      "text/plain": [
       "<Figure size 432x288 with 1 Axes>"
      ]
     },
     "metadata": {
      "needs_background": "light"
     },
     "output_type": "display_data"
    }
   ],
   "source": [
    "p = np.arange(0.001, 1., 0.01)\n",
    "\n",
    "plt.xlabel('Probability')\n",
    "plt.ylabel('Shannon Entropy')\n",
    "plt.title('H(p, 1-p)')\n",
    "plt.plot(p, -( p*np.log2(p) + (1-p)*np.log2(1-p)), 'r--')\n",
    "plt.show()"
   ]
  },
  {
   "cell_type": "markdown",
   "metadata": {},
   "source": [
    "Let's now have a look at a slightly different example of a one parameter family of density matrices,\n",
    "\n",
    "\\begin{align}\n",
    "\\rho(p) &= p(|0\\rangle \\langle 0|+|1\\rangle \\langle 1|) + (1-p) \\frac{(|0\\rangle + |1\\rangle )(\\langle 0| + \\langle 1|)}{2}\\\\\n",
    "&= \\frac{p}{2}\n",
    "\\begin{pmatrix}\n",
    "1 & 0 \\\\\n",
    "0 & 1\n",
    "\\end{pmatrix} + \\frac{(1-p)}{2}\n",
    "\\begin{pmatrix}\n",
    "1 & 1 \\\\\n",
    "1 & 1\n",
    "\\end{pmatrix} \\\\\n",
    "&= \n",
    "\\begin{pmatrix}\n",
    "p/2 & 0 \\\\\n",
    "0 & p/2\n",
    "\\end{pmatrix} + \n",
    "\\begin{pmatrix}\n",
    "(1-p)/2 & (1-p)/2 \\\\\n",
    "(1-p)/2 & (1-p)/2\n",
    "\\end{pmatrix}.\n",
    "\\end{align}"
   ]
  },
  {
   "cell_type": "code",
   "execution_count": 23,
   "metadata": {},
   "outputs": [],
   "source": [
    "# Define spin-up\n",
    "u = np.matrix([[1],\n",
    "               [0]])\n",
    "\n",
    "# Define spin-down\n",
    "d = np.matrix([[0],\n",
    "               [1]])\n",
    "\n",
    "# Define the pure state |0><0|\n",
    "P11 = np.dot(u, u.H)\n",
    "\n",
    "# Define the pure state |0><1|\n",
    "P12 = np.dot(u, d.H)\n",
    "\n",
    "# Define the pure state |1><0|\n",
    "P21 = np.dot(d, u.H)\n",
    "\n",
    "# Define the pure state |1><1|\n",
    "P22 = np.dot(d, d.H)\n",
    "\n",
    "# Define the mixed state |0><0| + |1><1|\n",
    "I = (P11+P22)/2\n",
    "\n",
    "# Define the pure state |0><0|+|0><1|+|1><0|+|1><1|\n",
    "D = (P11+P12+P21+P22)/2"
   ]
  },
  {
   "cell_type": "code",
   "execution_count": 24,
   "metadata": {},
   "outputs": [
    {
     "data": {
      "image/png": "[encoded data removed]",
      "text/plain": [
       "<Figure size 432x288 with 1 Axes>"
      ]
     },
     "metadata": {
      "needs_background": "light"
     },
     "output_type": "display_data"
    }
   ],
   "source": [
    "p = np.arange(0.001, 1., 0.01)\n",
    "\n",
    "# Create list of von Neumann entropies\n",
    "vn_y = list()\n",
    "for value in p:\n",
    "    rho = value*I + (1-value)*(D)\n",
    "    vn_y.append(von_neumann_entropy(rho))\n",
    "\n",
    "# convert list of matrices to list of numbers for plotting\n",
    "y = list()\n",
    "for value in vn_y:\n",
    "    y.append(value.tolist()[0][0])\n",
    "\n",
    "    \n",
    "# plot p vs. S(rho_p)\n",
    "plt.xlabel('p')\n",
    "plt.ylabel('von Neumann Entropy')\n",
    "plt.title('S(rho_p)')\n",
    "plt.plot(p, y, color='tab:blue')\n",
    "plt.show()"
   ]
  },
  {
   "cell_type": "markdown",
   "metadata": {},
   "source": [
    "Notice how one side of the curve corresponds to the *pure state*\n",
    "\n",
    "\\begin{align}\n",
    "|\\psi\\rangle = \\frac{|0\\rangle + |1\\rangle}{\\sqrt{2}} = |+\\rangle,\n",
    "\\end{align}\n",
    "\n",
    "since \n",
    "\n",
    "\\begin{align}\n",
    "|+\\rangle \\langle +| = \n",
    "\\frac{1}{2}\n",
    "\\begin{pmatrix}\n",
    "1 & 1 \\\\\n",
    "1 & 1\n",
    "\\end{pmatrix}.\n",
    "\\end{align}\n",
    "\n",
    "The opposite side of the curve (to the far right) corresponds to the *mixed state*\n",
    "\n",
    "\\begin{align}\n",
    "\\frac{|0\\rangle \\langle 0|}{2} + \\frac{|1\\rangle \\langle 1|}{2} = \n",
    "\\begin{pmatrix}\n",
    "1/2 & 0 \\\\\n",
    "0 & 1/2\n",
    "\\end{pmatrix}.\n",
    "\\end{align}\n",
    "\n",
    "We can see as the system evolves from pure to mixed the von Neumann entropy approches $S(\\rho(1)) = 1$. In general, for finite systems the von Neumann entropy $S(\\rho)$ encodes the departure of the system from a pure state, and described the degree of mixing in the state. For zero mixing (pure states), the von Neumann entropy is always zero. "
   ]
  },
  {
   "cell_type": "markdown",
   "metadata": {},
   "source": [
    "## Properties of von Neumann Entropy"
   ]
  },
  {
   "cell_type": "markdown",
   "metadata": {},
   "source": [
    "1. $S(\\rho) = 0$ if and only if $\\rho$ is a pure state.\n",
    "2. For $dim(\\mathbb{H}) = N$ the dimension of the Hilbert space, $S(\\rho) = \\log(N)$ gives the maximum value of $S(\\rho)$ for a *maximally mixed state*. \n",
    "3. $S(\\rho)$ is invariant under basis change, i.e. $S(\\rho) = S(U \\rho U^{\\dagger})$ for any unitary matrix $U$. \n",
    "4. For a set of numbers $\\{\\lambda_k\\}$ such that $\\sum_k \\lambda_k =1$ and $\\lambda_k >0$, and for a corresponding collection of density matrices $\\{\\rho_k\\}$ we have\n",
    "\n",
    "\\begin{align}\n",
    "S\\left(\\sum_k \\lambda_k \\rho_k \\right) \\geq \\sum_k \\lambda_k S(\\rho_k), \n",
    "\\end{align}\n",
    "\n",
    "making the von Neumann entropy *concave*.\n",
    "\n",
    "5. For a set of numbers as above, $S(\\rho)$ satisfies\n",
    "\n",
    "\\begin{align}\n",
    "S\\left(\\sum_k \\lambda_k \\rho_k \\right) \\leq \\sum_k \\lambda_k S(\\rho_k) - \\sum_k \\lambda_k \\log(\\lambda_k), \n",
    "\\end{align}\n",
    "\n",
    "and equality is achieved if the $\\rho_k$ have orthogonal support. \n",
    "\n",
    "6. $S(\\rho_{AB}) = S(\\rho_A \\otimes \\rho_B) = S(\\rho_A)+S(\\rho_B)$ for independent systems $A$ and $B$. \n",
    "7. $S(\\rho_{ABC})+S(\\rho_B) \\leq S(\\rho_{AB})+S(\\rho_{BC})$.\n",
    "8. $S(\\rho_{AC}) \\leq S(\\rho_A)+S(\\rho_C)$.\n",
    "9. Projective measurement can increase entropy, but generalized measurement can increase entropy (see pg. 515 of Nielsen & Chuang). "
   ]
  },
  {
   "cell_type": "markdown",
   "metadata": {},
   "source": [
    "## Using Qiskit for Studying Entropy"
   ]
  },
  {
   "cell_type": "markdown",
   "metadata": {},
   "source": [
    "### Creating a GHZ-state\n",
    "\n",
    "The following code creates a quantum circuit that prepares a GHZ-state, and prints the state vector as a column (ket) vector. "
   ]
  },
  {
   "cell_type": "code",
   "execution_count": 25,
   "metadata": {},
   "outputs": [
    {
     "data": {
      "image/png": "[encoded data removed]",
      "text/plain": [
       "<Figure size 369.628x264.88 with 1 Axes>"
      ]
     },
     "execution_count": 25,
     "metadata": {},
     "output_type": "execute_result"
    }
   ],
   "source": [
    "from qiskit import *\n",
    "import numpy as np\n",
    "%matplotlib inline\n",
    "\n",
    "qr = QuantumRegister(3)\n",
    "cr = ClassicalRegister(3)\n",
    "GHZ = QuantumCircuit(qr, cr)\n",
    "\n",
    "GHZ.h(0)\n",
    "GHZ.cx(0,1)\n",
    "GHZ.cx(1,2)\n",
    "GHZ.draw(output='mpl')"
   ]
  },
  {
   "cell_type": "code",
   "execution_count": 26,
   "metadata": {},
   "outputs": [
    {
     "name": "stdout",
     "output_type": "stream",
     "text": [
      "[[0.70710678-0.j]\n",
      " [0.        -0.j]\n",
      " [0.        -0.j]\n",
      " [0.        -0.j]\n",
      " [0.        -0.j]\n",
      " [0.        -0.j]\n",
      " [0.        -0.j]\n",
      " [0.70710678-0.j]]\n"
     ]
    }
   ],
   "source": [
    "backend = Aer.get_backend('statevector_simulator') \n",
    "GHZ_state = execute(GHZ,backend).result().get_statevector()\n",
    "print(np.matrix(GHZ_state).H)"
   ]
  },
  {
   "cell_type": "markdown",
   "metadata": {},
   "source": [
    "Next, we can use `Statevector()` function from Qiskti to print the state vector as well. This will be useful for computing the von Neumann entropy of the corresponding density matrix using the function `entropy()` in Qiskit. "
   ]
  },
  {
   "cell_type": "code",
   "execution_count": 27,
   "metadata": {},
   "outputs": [
    {
     "name": "stdout",
     "output_type": "stream",
     "text": [
      "Statevector([0.70710678+0.j, 0.        +0.j, 0.        +0.j,\n",
      "             0.        +0.j, 0.        +0.j, 0.        +0.j,\n",
      "             0.        +0.j, 0.70710678+0.j],\n",
      "            dims=(2, 2, 2))\n"
     ]
    }
   ],
   "source": [
    "from qiskit.quantum_info import Statevector\n",
    "psi = Statevector(GHZ_state)\n",
    "print(psi)"
   ]
  },
  {
   "cell_type": "markdown",
   "metadata": {},
   "source": [
    "Next, we use the `DensityMatrix()` function from Qiskit by passing it the `GHZ_state` ket-vector we defined above. "
   ]
  },
  {
   "cell_type": "code",
   "execution_count": 28,
   "metadata": {},
   "outputs": [
    {
     "name": "stdout",
     "output_type": "stream",
     "text": [
      "DensityMatrix([[0.5+0.j, 0. +0.j, 0. +0.j, 0. +0.j, 0. +0.j, 0. +0.j,\n",
      "                0. +0.j, 0.5+0.j],\n",
      "               [0. +0.j, 0. +0.j, 0. +0.j, 0. +0.j, 0. +0.j, 0. +0.j,\n",
      "                0. +0.j, 0. +0.j],\n",
      "               [0. +0.j, 0. +0.j, 0. +0.j, 0. +0.j, 0. +0.j, 0. +0.j,\n",
      "                0. +0.j, 0. +0.j],\n",
      "               [0. +0.j, 0. +0.j, 0. +0.j, 0. +0.j, 0. +0.j, 0. +0.j,\n",
      "                0. +0.j, 0. +0.j],\n",
      "               [0. +0.j, 0. +0.j, 0. +0.j, 0. +0.j, 0. +0.j, 0. +0.j,\n",
      "                0. +0.j, 0. +0.j],\n",
      "               [0. +0.j, 0. +0.j, 0. +0.j, 0. +0.j, 0. +0.j, 0. +0.j,\n",
      "                0. +0.j, 0. +0.j],\n",
      "               [0. +0.j, 0. +0.j, 0. +0.j, 0. +0.j, 0. +0.j, 0. +0.j,\n",
      "                0. +0.j, 0. +0.j],\n",
      "               [0.5+0.j, 0. +0.j, 0. +0.j, 0. +0.j, 0. +0.j, 0. +0.j,\n",
      "                0. +0.j, 0.5+0.j]],\n",
      "              dims=(2, 2, 2))\n"
     ]
    }
   ],
   "source": [
    "from qiskit.quantum_info import DensityMatrix\n",
    "D = DensityMatrix(GHZ_state)\n",
    "print(D)"
   ]
  },
  {
   "cell_type": "markdown",
   "metadata": {},
   "source": [
    "Now we can compute the entropy using the Qiskit `entropy()` function. We can pass it either the `Statevector` or the `DensityMatrix`. In the second case, we get effectively zero entropy, in the first we get exactly zero. This makes sense because the state is a pure state and the density matrix is computed as $D = |\\psi\\rangle \\langle \\psi|$. "
   ]
  },
  {
   "cell_type": "code",
   "execution_count": 29,
   "metadata": {},
   "outputs": [
    {
     "name": "stdout",
     "output_type": "stream",
     "text": [
      "0\n"
     ]
    }
   ],
   "source": [
    "from qiskit.quantum_info import entropy\n",
    "vn_entropy1 = entropy(psi, base=2)\n",
    "vn_entropy2 = entropy(D, base=2)\n",
    "print(vn_entropy1)"
   ]
  },
  {
   "cell_type": "code",
   "execution_count": 30,
   "metadata": {},
   "outputs": [
    {
     "name": "stdout",
     "output_type": "stream",
     "text": [
      "4.199997326979098e-15\n"
     ]
    }
   ],
   "source": [
    "print(vn_entropy2)"
   ]
  },
  {
   "cell_type": "markdown",
   "metadata": {},
   "source": [
    "Finally, let's generate a random density matrix $\\rho$ using the Qiskit function `random_density_matrix()`. This function's first argument is the dimension of the desired density matrix, which need not be a power of two. However, in the context of quantum circuits with qubits, it is important we make this restriction manually. There are of course more general systems involving things such as \"*qudits*\" which might yield arbitrary dimensional density matrices. "
   ]
  },
  {
   "cell_type": "code",
   "execution_count": 31,
   "metadata": {},
   "outputs": [
    {
     "name": "stdout",
     "output_type": "stream",
     "text": [
      "DensityMatrix([[ 1.96400213e-01+0.j        ,  1.80898443e-02-0.01727578j,\n",
      "                -1.57383911e-02-0.07469748j,  5.29852766e-02-0.00583338j,\n",
      "                -3.74916529e-02+0.00694217j, -2.09464434e-02-0.0206761j ,\n",
      "                -1.15337716e-02+0.03928328j,  4.28385629e-02-0.02125496j],\n",
      "               [ 1.80898443e-02+0.01727578j,  5.46106842e-02+0.j        ,\n",
      "                -3.68950868e-03-0.02847633j,  3.18368689e-03-0.0070467j ,\n",
      "                 1.72361133e-02+0.01297396j,  1.47978222e-02-0.03572575j,\n",
      "                -2.38006728e-02-0.0047977j ,  4.36078367e-02+0.0388602j ],\n",
      "               [-1.57383911e-02+0.07469748j, -3.68950868e-03+0.02847633j,\n",
      "                 1.40462740e-01+0.j        , -4.89291864e-02+0.01286163j,\n",
      "                -6.75527216e-02-0.02904641j,  3.95951748e-02+0.02954476j,\n",
      "                -1.42679249e-02-0.01132846j, -4.22474826e-02+0.04656234j],\n",
      "               [ 5.29852766e-02+0.00583338j,  3.18368689e-03+0.0070467j ,\n",
      "                -4.89291864e-02-0.01286163j,  1.16625800e-01+0.j        ,\n",
      "                -6.16782308e-04+0.00591833j, -1.85835320e-02-0.03508277j,\n",
      "                -3.27381391e-02-0.00813095j,  1.17026616e-02-0.00269567j],\n",
      "               [-3.74916529e-02-0.00694217j,  1.72361133e-02-0.01297396j,\n",
      "                -6.75527216e-02+0.02904641j, -6.16782308e-04-0.00591833j,\n",
      "                 1.59480788e-01+0.j        ,  1.05067870e-04-0.01409712j,\n",
      "                 1.40057578e-02+0.00388616j, -2.04845696e-02+0.00860173j],\n",
      "               [-2.09464434e-02+0.0206761j ,  1.47978222e-02+0.03572575j,\n",
      "                 3.95951748e-02-0.02954476j, -1.85835320e-02+0.03508277j,\n",
      "                 1.05067870e-04+0.01409712j,  1.17490693e-01+0.j        ,\n",
      "                 6.71489885e-03-0.00930618j, -3.47497674e-02+0.07288104j],\n",
      "               [-1.15337716e-02-0.03928328j, -2.38006728e-02+0.0047977j ,\n",
      "                -1.42679249e-02+0.01132846j, -3.27381391e-02+0.00813095j,\n",
      "                 1.40057578e-02-0.00388616j,  6.71489885e-03+0.00930618j,\n",
      "                 8.42542649e-02+0.j        , -4.15976453e-02-0.02613171j],\n",
      "               [ 4.28385629e-02+0.02125496j,  4.36078367e-02-0.0388602j ,\n",
      "                -4.22474826e-02-0.04656234j,  1.17026616e-02+0.00269567j,\n",
      "                -2.04845696e-02-0.00860173j, -3.47497674e-02-0.07288104j,\n",
      "                -4.15976453e-02+0.02613171j,  1.30674817e-01+0.j        ]],\n",
      "              dims=(2, 2, 2))\n"
     ]
    }
   ],
   "source": [
    "from qiskit.quantum_info import random_density_matrix\n",
    "rho = random_density_matrix(8, rank=None, method='Hilbert-Schmidt', seed=None)\n",
    "print(rho)"
   ]
  },
  {
   "cell_type": "markdown",
   "metadata": {},
   "source": [
    "We can compute the entropy using the Qiskit `entropy()` function. "
   ]
  },
  {
   "cell_type": "code",
   "execution_count": 32,
   "metadata": {},
   "outputs": [
    {
     "data": {
      "text/plain": [
       "2.340014533934892"
      ]
     },
     "execution_count": 32,
     "metadata": {},
     "output_type": "execute_result"
    }
   ],
   "source": [
    "entropy(rho, base=2)"
   ]
  },
  {
   "cell_type": "markdown",
   "metadata": {},
   "source": [
    "Let's plot the entropy of the system that evolved from the state given by the density matrix $D$ of the GHZ-state to the system described by the density matrix $\\rho$. "
   ]
  },
  {
   "cell_type": "code",
   "execution_count": 37,
   "metadata": {},
   "outputs": [
    {
     "data": {
      "image/png": "[encoded data removed]",
      "text/plain": [
       "<Figure size 432x288 with 1 Axes>"
      ]
     },
     "metadata": {
      "needs_background": "light"
     },
     "output_type": "display_data"
    }
   ],
   "source": [
    "time = np.arange(0.001, 1., 0.01)\n",
    "\n",
    "vn_entropy = list()\n",
    "for t in time:\n",
    "    vn_entropy.append(entropy(D, base=2)*t + entropy(rho, base=2)*(1-t))\n",
    "\n",
    "# Create list of von Neumann entropies\n",
    "vn_y = list()\n",
    "for value in p:\n",
    "    M = value*rho + (1-value)*(D)\n",
    "    vn_y.append(entropy(M))\n",
    "\n",
    "# convert list of matrices to list of numbers for plotting\n",
    "# y = list()\n",
    "# for value in vn_y:\n",
    "#    y.append(value.tolist()[0][0])\n",
    "\n",
    "    \n",
    "# plot p vs. S(rho_p)\n",
    "plt.xlabel('time')\n",
    "plt.ylabel('von Neumann Entropy')\n",
    "plt.title('S(rho(t))')\n",
    "plt.plot(p, vn_y, color='tab:blue')\n",
    "plt.show()"
   ]
  },
  {
   "cell_type": "markdown",
   "metadata": {},
   "source": [
    "## Exercises"
   ]
  },
  {
   "cell_type": "markdown",
   "metadata": {},
   "source": [
    "1. Construct a circuit that prepares the Bell state $|\\psi\\rangle = \\beta_{00} = (|00\\rangle + |11\\rangle)/\\sqrt{2}$\n",
    "2. Use the `Statevector_Simulator` backend in Qiskit to get the state vector and print it as a column vector. \n",
    "3. Compute the density matrix $\\rho = |\\psi\\rangle \\langle \\psi|$ using the `np.dot()` function from NumPy. \n",
    "4. Use the function `von_neumann_entropy()` to compute the von Neumann entropy of $\\rho$. \n",
    "5. Use the function `vn_eig_entropy()` to compute the von Neumann entropy of $\\rho$. \n",
    "6. Use the Qiskit function `Statevector()` as the argument of the Qiskit function `entropy()` to compute the von Neumann entropy of $\\rho$. \n",
    "7. Use the Qiskit function `DensityMatrix()` as the argument of the Qiskit function `entropy()` to compute the von Neumann entropy of $\\rho$.\n",
    "8. Verify that you get zero (or effectively zero) for all methods of computing the von Neumann entropy of $\\rho$. \n",
    "9. For extra practice, repeat steps (1)-(8) for the Bell states $\\beta_{01}, \\beta_{10},$ and $\\beta_{11}$. \n",
    "10. Try ploting the entropy as the the state evolves from $\\beta_{00}$ to $\\beta_{01}$. You should get zero entropy at either end of your graph, and a nonzero value for all mixed states in between. "
   ]
  },
  {
   "cell_type": "code",
   "execution_count": null,
   "metadata": {},
   "outputs": [],
   "source": []
  }
 ],
 "metadata": {
  "kernelspec": {
   "display_name": "Python 3",
   "language": "python",
   "name": "python3"
  },
  "language_info": {
   "codemirror_mode": {
    "name": "ipython",
    "version": 3
   },
   "file_extension": ".py",
   "mimetype": "text/x-python",
   "name": "python",
   "nbconvert_exporter": "python",
   "pygments_lexer": "ipython3",
   "version": "3.7.6"
  }
 },
 "nbformat": 4,
 "nbformat_minor": 4
}
